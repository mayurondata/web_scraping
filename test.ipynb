{
 "cells": [
  {
   "cell_type": "code",
   "execution_count": 7,
   "metadata": {},
   "outputs": [
    {
     "ename": "AttributeError",
     "evalue": "'my_class' object has no attribute 'foo'",
     "output_type": "error",
     "traceback": [
      "\u001b[1;31m---------------------------------------------------------------------------\u001b[0m",
      "\u001b[1;31mAttributeError\u001b[0m                            Traceback (most recent call last)",
      "Input \u001b[1;32mIn [7]\u001b[0m, in \u001b[0;36m<cell line: 11>\u001b[1;34m()\u001b[0m\n\u001b[0;32m      8\u001b[0m instance \u001b[38;5;241m=\u001b[39m my_class()\n\u001b[0;32m     10\u001b[0m \u001b[38;5;66;03m# Call the foo() method using the instance\u001b[39;00m\n\u001b[1;32m---> 11\u001b[0m \u001b[43minstance\u001b[49m\u001b[38;5;241;43m.\u001b[39;49m\u001b[43mfoo\u001b[49m()\n\u001b[0;32m     12\u001b[0m instance2 \u001b[38;5;241m=\u001b[39m my_class()\n\u001b[0;32m     13\u001b[0m instance2\u001b[38;5;241m.\u001b[39mgood()\n",
      "\u001b[1;31mAttributeError\u001b[0m: 'my_class' object has no attribute 'foo'"
     ]
    }
   ],
   "source": [
    "class my_class:\n",
    "    global foo\n",
    "    def foo(self):\n",
    "        print(\"abccc\")\n",
    "    def good(self):\n",
    "        a = foo()\n",
    "# Instantiate the class\n",
    "instance = my_class()\n",
    "\n",
    "# Call the foo() method using the instance\n",
    "instance.foo()\n",
    "instance2 = my_class()\n",
    "instance2.good()"
   ]
  },
  {
   "cell_type": "code",
   "execution_count": 8,
   "metadata": {},
   "outputs": [
    {
     "name": "stdout",
     "output_type": "stream",
     "text": [
      "[1, 2]\n",
      "[1, 2]\n",
      "[1, 2]\n",
      "[1, 2]\n"
     ]
    }
   ],
   "source": [
    "class MyClass:\n",
    "    class_data = []  # Class attribute to store shared data\n",
    "    \n",
    "    @classmethod\n",
    "    def add_data(cls, value):\n",
    "        cls.class_data.append(value)\n",
    "    \n",
    "    @classmethod\n",
    "    def get_data(cls):\n",
    "        return cls.class_data\n",
    "\n",
    "# Adding data using class method\n",
    "MyClass.add_data(1)\n",
    "MyClass.add_data(2)\n",
    "\n",
    "# Creating instances\n",
    "instance1 = MyClass()\n",
    "instance2 = MyClass()\n",
    "\n",
    "# Accessing shared data through instances\n",
    "print(instance1.get_data())  # Output: [1, 2]\n",
    "print(instance2.get_data())  # Output: [1, 2]\n",
    "class MyClass:\n",
    "    class_data = []  # Class attribute to store shared data\n",
    "    \n",
    "    @classmethod\n",
    "    def add_data(cls, value):\n",
    "        cls.class_data.append(value)\n",
    "    \n",
    "    @classmethod\n",
    "    def get_data(cls):\n",
    "        return cls.class_data\n",
    "\n",
    "# Adding data using class method\n",
    "MyClass.add_data(1)\n",
    "MyClass.add_data(2)\n",
    "\n",
    "# Creating instances\n",
    "instance1 = MyClass()\n",
    "instance2 = MyClass()\n",
    "\n",
    "# Accessing shared data through instances\n",
    "print(instance1.get_data())  # Output: [1, 2]\n",
    "print(instance2.get_data())  # Output: [1, 2]\n"
   ]
  }
 ],
 "metadata": {
  "kernelspec": {
   "display_name": "base",
   "language": "python",
   "name": "python3"
  },
  "language_info": {
   "codemirror_mode": {
    "name": "ipython",
    "version": 3
   },
   "file_extension": ".py",
   "mimetype": "text/x-python",
   "name": "python",
   "nbconvert_exporter": "python",
   "pygments_lexer": "ipython3",
   "version": "3.9.12"
  }
 },
 "nbformat": 4,
 "nbformat_minor": 2
}
